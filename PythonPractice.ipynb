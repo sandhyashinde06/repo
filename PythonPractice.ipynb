{
  "nbformat": 4,
  "nbformat_minor": 0,
  "metadata": {
    "colab": {
      "provenance": [],
      "toc_visible": true,
      "authorship_tag": "ABX9TyN7yH6p9o8gc6Ag3xMSR1b9",
      "include_colab_link": true
    },
    "kernelspec": {
      "name": "python3",
      "display_name": "Python 3"
    },
    "language_info": {
      "name": "python"
    }
  },
  "cells": [
    {
      "cell_type": "markdown",
      "metadata": {
        "id": "view-in-github",
        "colab_type": "text"
      },
      "source": [
        "<a href=\"https://colab.research.google.com/github/sandhyashinde06/repo/blob/main/PythonPractice.ipynb\" target=\"_parent\"><img src=\"https://colab.research.google.com/assets/colab-badge.svg\" alt=\"Open In Colab\"/></a>"
      ]
    },
    {
      "cell_type": "code",
      "execution_count": 5,
      "metadata": {
        "colab": {
          "base_uri": "https://localhost:8080/"
        },
        "id": "S_oF4t8JVIft",
        "outputId": "3f60ab41-9dab-4c03-dec4-f01944c9e92b"
      },
      "outputs": [
        {
          "output_type": "stream",
          "name": "stdout",
          "text": [
            "The value of x is: 5\n",
            "The data type of X is: <class 'int'>\n",
            "The value of y is: 2.5\n",
            "The data type of X is: <class 'float'>\n",
            "The value of z is: Sandhya\n",
            "The data type of X is: <class 'str'>\n"
          ]
        }
      ],
      "source": [
        "#Examples of int, string data types\n",
        "x = 5\n",
        "y = 2.5\n",
        "z = \"Sandhya\"\n",
        "print(\"The value of x is:\", x)\n",
        "print(\"The data type of X is:\", type(x))\n",
        "print(\"The value of y is:\", y)\n",
        "print(\"The data type of X is:\" , type(y))\n",
        "print(\"The value of z is:\", z)\n",
        "print(\"The data type of X is:\" , type(z))"
      ]
    },
    {
      "cell_type": "code",
      "source": [
        "#Multiline, positioning of the characters\n",
        "x = \"\"\"This is a multiline code. It is working.\n",
        "This would work.\n",
        "The message has to be printed as it is.\"\"\"\n",
        "print(x)\n",
        "y = \"\"\"This is a single line written in multiline code\"\"\"\n",
        "print(y)\n",
        "a= \"We are students\"\n",
        "print(a[1])\n",
        "b = None                                                                         #This is a None datatype defination example\n",
        "print(b)"
      ],
      "metadata": {
        "colab": {
          "base_uri": "https://localhost:8080/"
        },
        "id": "Dyk5bt0XYQPL",
        "outputId": "f3454942-7845-4697-d800-abe9312f2a16"
      },
      "execution_count": 20,
      "outputs": [
        {
          "output_type": "stream",
          "name": "stdout",
          "text": [
            "This is a multiline code. It is working.\n",
            "This would work.\n",
            "The message has to be printed as it is.\n",
            "This is a single line written in multiline code\n",
            "e\n",
            "None\n"
          ]
        }
      ]
    },
    {
      "cell_type": "code",
      "source": [
        "#Collection datatypes\n",
        "x= [\"apple\", \"Banana\", \"Cherry\", \"apple\", \"cherry\"]\n",
        "print(x)\n",
        "print(x[0])\n",
        "print(len(x))\n",
        "print(len(x[1]))"
      ],
      "metadata": {
        "colab": {
          "base_uri": "https://localhost:8080/"
        },
        "id": "35vljhqJbLLD",
        "outputId": "5f1e2396-c4eb-442e-d7ce-a3e63d548b32"
      },
      "execution_count": 18,
      "outputs": [
        {
          "output_type": "stream",
          "name": "stdout",
          "text": [
            "['apple', 'Banana', 'Cherry', 'apple', 'cherry']\n",
            "apple\n",
            "5\n",
            "6\n"
          ]
        }
      ]
    },
    {
      "cell_type": "code",
      "source": [
        "#Examples of list datatype\n",
        "x= [\"apple\", \"Banana\", \"Cherry\", \"apple\", \"cherry\"]\n",
        "y = [1,2,3,4]\n",
        "z= [True, False, True]\n",
        "a = [\"Sandhya\", 1, True, 0.5]                                                     #This is multiple dataype list\n",
        "print(x[2])\n",
        "print(y[2])\n",
        "print(z[2])\n",
        "print(a)\n",
        "a.append(\"Shinde\")\n",
        "print(a)\n",
        "a.remove(\"Shinde\")\n",
        "print(a)"
      ],
      "metadata": {
        "colab": {
          "base_uri": "https://localhost:8080/"
        },
        "id": "PyHd8CSfh7Wp",
        "outputId": "583f7870-2e5f-4693-ddf0-7489501ae759"
      },
      "execution_count": 24,
      "outputs": [
        {
          "output_type": "stream",
          "name": "stdout",
          "text": [
            "Cherry\n",
            "3\n",
            "True\n",
            "['Sandhya', 1, True, 0.5]\n",
            "['Sandhya', 1, True, 0.5, 'Shinde']\n",
            "['Sandhya', 1, True, 0.5]\n"
          ]
        }
      ]
    },
    {
      "cell_type": "code",
      "source": [
        "#conditional statements\n",
        "a= 2\n",
        "b= 4\n",
        "if a>b:\n",
        "  print(\"a is greater than b\")\n",
        "#else :\n",
        "#  print(\"b is greater than a\")\n",
        "print(\"This statement is outside the if - else block\")"
      ],
      "metadata": {
        "colab": {
          "base_uri": "https://localhost:8080/"
        },
        "id": "XWRbjeKFmYhU",
        "outputId": "730191ab-1e1c-4bb2-d891-ff07a596facf"
      },
      "execution_count": 35,
      "outputs": [
        {
          "output_type": "stream",
          "name": "stdout",
          "text": [
            "This statement is outside the if - else block\n"
          ]
        }
      ]
    },
    {
      "cell_type": "code",
      "source": [
        "#Print even or odd number\n",
        "#num = int(input(\"Enter a number: \"))\n",
        "num = 5.2\n",
        "if (num % 2) == 0:\n",
        "   print(\"{0} is Even\".format(num))\n",
        "else:\n",
        "   print(\"{0} is Odd\".format(num))"
      ],
      "metadata": {
        "colab": {
          "base_uri": "https://localhost:8080/"
        },
        "id": "GPIaA5nYsArF",
        "outputId": "25c16470-2638-45aa-828a-8dfb5466ba30"
      },
      "execution_count": 40,
      "outputs": [
        {
          "output_type": "stream",
          "name": "stdout",
          "text": [
            "5.2 is Odd\n"
          ]
        }
      ]
    },
    {
      "cell_type": "code",
      "source": [
        "a = 35\n",
        "b = 33\n",
        "if b>a :\n",
        "  print(\" b is greater than a\")\n",
        "elif a == b:\n",
        "  print(\"a and b are equal\")\n",
        "else:\n",
        "  print(\"a is greater than b\")"
      ],
      "metadata": {
        "colab": {
          "base_uri": "https://localhost:8080/"
        },
        "id": "g7SIqi7A2GAi",
        "outputId": "44d5887a-4730-4610-bbfb-7aed54896a8a"
      },
      "execution_count": 41,
      "outputs": [
        {
          "output_type": "stream",
          "name": "stdout",
          "text": [
            "a is greater than b\n"
          ]
        }
      ]
    },
    {
      "cell_type": "code",
      "source": [
        "#Check grade of a student\n",
        "#x = 79\n",
        "x = int(input(\"Enter a number: \"))\n",
        "if x>= 90:\n",
        "  print(\"The grade is A\")\n",
        "elif x >=80 and x<90:\n",
        "  print(\"The grade is B\")\n",
        "else:\n",
        "  print(\"The grade is C\")"
      ],
      "metadata": {
        "colab": {
          "base_uri": "https://localhost:8080/"
        },
        "id": "t7t7UJ0I4AM7",
        "outputId": "b0ee2755-47ce-45f6-b4ac-3398ef679ca3"
      },
      "execution_count": 57,
      "outputs": [
        {
          "output_type": "stream",
          "name": "stdout",
          "text": [
            "Enter a number: 20\n",
            "The grade is C\n"
          ]
        }
      ]
    },
    {
      "cell_type": "code",
      "source": [
        "x = [1,2,3]\n",
        "while len(x) <= 2:\n",
        "  print(x)\n"
      ],
      "metadata": {
        "id": "XG4t4oUq6Nkm"
      },
      "execution_count": 66,
      "outputs": []
    }
  ]
}